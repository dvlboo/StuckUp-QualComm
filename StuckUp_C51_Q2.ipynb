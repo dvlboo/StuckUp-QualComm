{
  "nbformat": 4,
  "nbformat_minor": 0,
  "metadata": {
    "colab": {
      "provenance": [],
      "gpuType": "T4",
      "authorship_tag": "ABX9TyMV+U07KTw4Dk/eZJQt6H4Y",
      "include_colab_link": true
    },
    "kernelspec": {
      "name": "python3",
      "display_name": "Python 3"
    },
    "language_info": {
      "name": "python"
    },
    "accelerator": "GPU"
  },
  "cells": [
    {
      "cell_type": "markdown",
      "metadata": {
        "id": "view-in-github",
        "colab_type": "text"
      },
      "source": [
        "<a href=\"https://colab.research.google.com/github/dvlboo/StuckUp-QualComm/blob/main/StuckUp_C51_Q2.ipynb\" target=\"_parent\"><img src=\"https://colab.research.google.com/assets/colab-badge.svg\" alt=\"Open In Colab\"/></a>"
      ]
    },
    {
      "cell_type": "code",
      "source": [
        "pip install qai-hub"
      ],
      "metadata": {
        "colab": {
          "base_uri": "https://localhost:8080/"
        },
        "id": "nsAMGP1U1feA",
        "outputId": "0dd7b475-05f6-466f-f7dd-c5582f10216a"
      },
      "execution_count": 1,
      "outputs": [
        {
          "output_type": "stream",
          "name": "stdout",
          "text": [
            "Requirement already satisfied: qai-hub in /usr/local/lib/python3.11/dist-packages (0.25.0)\n",
            "Requirement already satisfied: backoff>=2.2 in /usr/local/lib/python3.11/dist-packages (from qai-hub) (2.2.1)\n",
            "Requirement already satisfied: deprecation in /usr/local/lib/python3.11/dist-packages (from qai-hub) (2.1.0)\n",
            "Requirement already satisfied: h5py<4,>=2.10.0 in /usr/local/lib/python3.11/dist-packages (from qai-hub) (3.12.1)\n",
            "Requirement already satisfied: numpy<2,>=1.22.0 in /usr/local/lib/python3.11/dist-packages (from qai-hub) (1.26.4)\n",
            "Requirement already satisfied: packaging>=20.0 in /usr/local/lib/python3.11/dist-packages (from qai-hub) (24.2)\n",
            "Requirement already satisfied: prettytable>=3.9.0 in /usr/local/lib/python3.11/dist-packages (from qai-hub) (3.15.1)\n",
            "Requirement already satisfied: protobuf<4,>=3.20 in /usr/local/lib/python3.11/dist-packages (from qai-hub) (3.20.3)\n",
            "Requirement already satisfied: requests in /usr/local/lib/python3.11/dist-packages (from qai-hub) (2.32.3)\n",
            "Requirement already satisfied: requests-toolbelt in /usr/local/lib/python3.11/dist-packages (from qai-hub) (1.0.0)\n",
            "Requirement already satisfied: s3transfer<0.11,>=0.10.3 in /usr/local/lib/python3.11/dist-packages (from qai-hub) (0.10.4)\n",
            "Requirement already satisfied: semver>=3.0 in /usr/local/lib/python3.11/dist-packages (from qai-hub) (3.0.4)\n",
            "Requirement already satisfied: tqdm in /usr/local/lib/python3.11/dist-packages (from qai-hub) (4.67.1)\n",
            "Requirement already satisfied: typing-extensions>=4.12.2 in /usr/local/lib/python3.11/dist-packages (from qai-hub) (4.12.2)\n",
            "Requirement already satisfied: wcwidth in /usr/local/lib/python3.11/dist-packages (from prettytable>=3.9.0->qai-hub) (0.2.13)\n",
            "Requirement already satisfied: botocore<2.0a.0,>=1.33.2 in /usr/local/lib/python3.11/dist-packages (from s3transfer<0.11,>=0.10.3->qai-hub) (1.37.11)\n",
            "Requirement already satisfied: charset-normalizer<4,>=2 in /usr/local/lib/python3.11/dist-packages (from requests->qai-hub) (3.4.1)\n",
            "Requirement already satisfied: idna<4,>=2.5 in /usr/local/lib/python3.11/dist-packages (from requests->qai-hub) (3.10)\n",
            "Requirement already satisfied: urllib3<3,>=1.21.1 in /usr/local/lib/python3.11/dist-packages (from requests->qai-hub) (2.3.0)\n",
            "Requirement already satisfied: certifi>=2017.4.17 in /usr/local/lib/python3.11/dist-packages (from requests->qai-hub) (2025.1.31)\n",
            "Requirement already satisfied: jmespath<2.0.0,>=0.7.1 in /usr/local/lib/python3.11/dist-packages (from botocore<2.0a.0,>=1.33.2->s3transfer<0.11,>=0.10.3->qai-hub) (1.0.1)\n",
            "Requirement already satisfied: python-dateutil<3.0.0,>=2.1 in /usr/local/lib/python3.11/dist-packages (from botocore<2.0a.0,>=1.33.2->s3transfer<0.11,>=0.10.3->qai-hub) (2.8.2)\n",
            "Requirement already satisfied: six>=1.5 in /usr/local/lib/python3.11/dist-packages (from python-dateutil<3.0.0,>=2.1->botocore<2.0a.0,>=1.33.2->s3transfer<0.11,>=0.10.3->qai-hub) (1.17.0)\n"
          ]
        }
      ]
    },
    {
      "cell_type": "code",
      "source": [
        "!qai-hub configure --api_token 83"
      ],
      "metadata": {
        "id": "dHmqBT3d1EgX"
      },
      "execution_count": null,
      "outputs": []
    },
    {
      "cell_type": "code",
      "source": [
        "import qai_hub as hub\n",
        "hub.get_devices()"
      ],
      "metadata": {
        "colab": {
          "base_uri": "https://localhost:8080/"
        },
        "id": "EG1fSjG_1Q-m",
        "outputId": "0434a2dd-bf65-4b6f-e1ec-85e655e0cfa8"
      },
      "execution_count": 3,
      "outputs": [
        {
          "output_type": "execute_result",
          "data": {
            "text/plain": [
              "[Device(name='Google Pixel 3 (Family)', os='10', attributes=['os:android', 'framework:tflite', 'framework:onnx', 'abi:aarch64-android', 'vendor:google', 'format:phone', 'chipset:qualcomm-snapdragon-845', 'chipset:sdm845', 'hexagon:v65', 'soc-model:1']),\n",
              " Device(name='Google Pixel 3', os='10', attributes=['os:android', 'framework:tflite', 'framework:onnx', 'abi:aarch64-android', 'vendor:google', 'format:phone', 'chipset:qualcomm-snapdragon-845', 'chipset:sdm845', 'hexagon:v65', 'soc-model:1']),\n",
              " Device(name='Google Pixel 3a', os='10', attributes=['os:android', 'framework:tflite', 'framework:onnx', 'abi:aarch64-android', 'vendor:google', 'format:phone', 'chipset:qualcomm-snapdragon-670', 'chipset:sdm670', 'hexagon:v65', 'soc-model:6']),\n",
              " Device(name='Google Pixel 3 XL', os='10', attributes=['os:android', 'framework:tflite', 'framework:onnx', 'abi:aarch64-android', 'vendor:google', 'format:phone', 'chipset:qualcomm-snapdragon-845', 'chipset:sdm845', 'hexagon:v65', 'soc-model:1']),\n",
              " Device(name='Google Pixel 4', os='10', attributes=['os:android', 'framework:tflite', 'framework:onnx', 'abi:aarch64-android', 'vendor:google', 'format:phone', 'chipset:qualcomm-snapdragon-855', 'chipset:sm8150', 'hexagon:v66', 'soc-model:12']),\n",
              " Device(name='Google Pixel 4', os='11', attributes=['os:android', 'framework:tflite', 'framework:onnx', 'abi:aarch64-android', 'vendor:google', 'format:phone', 'chipset:qualcomm-snapdragon-855', 'chipset:sm8150', 'hexagon:v66', 'soc-model:12']),\n",
              " Device(name='Google Pixel 4a', os='11', attributes=['os:android', 'framework:tflite', 'framework:onnx', 'abi:aarch64-android', 'vendor:google', 'format:phone', 'chipset:qualcomm-snapdragon-730g', 'chipset:sm7150-ab', 'hexagon:v65', 'soc-model:17']),\n",
              " Device(name='Google Pixel 5', os='11', attributes=['os:android', 'framework:tflite', 'framework:onnx', 'abi:aarch64-android', 'vendor:google', 'format:phone', 'chipset:qualcomm-snapdragon-765g', 'chipset:sm7250', 'hexagon:v66', 'soc-model:25']),\n",
              " Device(name='Samsung Galaxy Tab S7', os='11', attributes=['os:android', 'framework:tflite', 'framework:onnx', 'abi:aarch64-android', 'vendor:samsung', 'format:tablet', 'chipset:qualcomm-snapdragon-865+', 'chipset:sm8250-ab', 'hexagon:v66', 'soc-model:21']),\n",
              " Device(name='Samsung Galaxy Tab A8 (2021)', os='11', attributes=['os:android', 'framework:tflite', 'framework:onnx', 'abi:aarch64-android', 'vendor:samsung', 'format:tablet', 'chipset:qualcomm-snapdragon-429', 'chipset:sdm429']),\n",
              " Device(name='Samsung Galaxy Note 20 (Intl)', os='11', attributes=['os:android', 'framework:tflite', 'framework:onnx', 'abi:aarch64-android', 'vendor:samsung', 'format:phone', 'chipset:samsung-exynos-990']),\n",
              " Device(name='Samsung Galaxy S21 (Family)', os='11', attributes=['os:android', 'framework:tflite', 'framework:onnx', 'abi:aarch64-android', 'vendor:samsung', 'format:phone', 'chipset:qualcomm-snapdragon-888', 'chipset:sm8350', 'hexagon:v68', 'soc-model:30', 'framework:qnn']),\n",
              " Device(name='Samsung Galaxy S21', os='11', attributes=['os:android', 'framework:tflite', 'framework:onnx', 'abi:aarch64-android', 'vendor:samsung', 'format:phone', 'chipset:qualcomm-snapdragon-888', 'chipset:sm8350', 'hexagon:v68', 'soc-model:30', 'framework:qnn']),\n",
              " Device(name='Samsung Galaxy S21+', os='11', attributes=['os:android', 'framework:tflite', 'framework:onnx', 'abi:aarch64-android', 'vendor:samsung', 'format:phone', 'chipset:qualcomm-snapdragon-888', 'chipset:sm8350', 'hexagon:v68', 'soc-model:30', 'framework:qnn']),\n",
              " Device(name='Samsung Galaxy S21 Ultra', os='11', attributes=['os:android', 'framework:tflite', 'framework:onnx', 'abi:aarch64-android', 'vendor:samsung', 'format:phone', 'chipset:qualcomm-snapdragon-888', 'chipset:sm8350', 'hexagon:v68', 'soc-model:30', 'framework:qnn']),\n",
              " Device(name='Xiaomi Redmi Note 10 5G', os='11', attributes=['os:android', 'framework:tflite', 'framework:onnx', 'abi:aarch64-android', 'vendor:oneplus', 'format:phone', 'chipset:qualcomm-snapdragon-678', 'chipset:sm6150-ac', 'hexagon:v66', 'soc-model:16']),\n",
              " Device(name='Google Pixel 3a XL', os='12', attributes=['os:android', 'framework:tflite', 'framework:onnx', 'abi:aarch64-android', 'vendor:google', 'format:phone', 'chipset:qualcomm-snapdragon-670', 'chipset:sdm670', 'hexagon:v65', 'soc-model:6']),\n",
              " Device(name='Google Pixel 4a', os='12', attributes=['os:android', 'framework:tflite', 'framework:onnx', 'abi:aarch64-android', 'vendor:google', 'format:phone', 'chipset:qualcomm-snapdragon-730g', 'chipset:sm7150-ab', 'hexagon:v65', 'soc-model:17']),\n",
              " Device(name='Google Pixel 5 (Family)', os='12', attributes=['os:android', 'framework:tflite', 'framework:onnx', 'abi:aarch64-android', 'vendor:google', 'format:phone', 'chipset:qualcomm-snapdragon-765g', 'chipset:sm7250', 'hexagon:v66', 'soc-model:25']),\n",
              " Device(name='Google Pixel 5', os='12', attributes=['os:android', 'framework:tflite', 'framework:onnx', 'abi:aarch64-android', 'vendor:google', 'format:phone', 'chipset:qualcomm-snapdragon-765g', 'chipset:sm7250', 'hexagon:v66', 'soc-model:25']),\n",
              " Device(name='Google Pixel 5a 5G', os='12', attributes=['os:android', 'framework:tflite', 'framework:onnx', 'abi:aarch64-android', 'vendor:google', 'format:phone', 'chipset:qualcomm-snapdragon-765g', 'chipset:sm7250', 'hexagon:v66', 'soc-model:25']),\n",
              " Device(name='Google Pixel 6', os='12', attributes=['os:android', 'framework:tflite', 'framework:onnx', 'abi:aarch64-android', 'vendor:google', 'format:phone', 'chipset:google-tensor']),\n",
              " Device(name='Samsung Galaxy A53 5G', os='12', attributes=['os:android', 'framework:tflite', 'framework:onnx', 'abi:aarch64-android', 'vendor:samsung', 'format:phone', 'chipset:samsung-exynos-1280']),\n",
              " Device(name='Samsung Galaxy A73 5G', os='12', attributes=['os:android', 'framework:tflite', 'framework:onnx', 'abi:aarch64-android', 'vendor:samsung', 'format:phone', 'chipset:qualcomm-snapdragon-778g', 'chipset:sm7325', 'hexagon:v68', 'soc-model:35', 'framework:qnn']),\n",
              " Device(name='RB3 Gen 2 (Proxy)', os='12', attributes=['os:android', 'framework:tflite', 'framework:onnx', 'abi:aarch64-android', 'vendor:qualcomm', 'format:iot', 'chipset:qualcomm-qcs6490-proxy', 'hexagon:v68', 'soc-model:35', 'framework:qnn']),\n",
              " Device(name='QCS6490 (Proxy)', os='12', attributes=['os:android', 'framework:tflite', 'framework:onnx', 'abi:aarch64-android', 'vendor:qualcomm', 'format:iot', 'chipset:qualcomm-qcs6490-proxy', 'hexagon:v68', 'soc-model:35', 'framework:qnn']),\n",
              " Device(name='RB5 (Proxy)', os='12', attributes=['os:android', 'framework:tflite', 'framework:onnx', 'abi:aarch64-android', 'vendor:qualcomm', 'format:iot', 'chipset:qualcomm-qcs8250-proxy', 'hexagon:v66', 'soc-model:21']),\n",
              " Device(name='QCS8250 (Proxy)', os='12', attributes=['os:android', 'framework:tflite', 'framework:onnx', 'abi:aarch64-android', 'vendor:qualcomm', 'format:iot', 'chipset:qualcomm-qcs8250-proxy', 'hexagon:v66', 'soc-model:21']),\n",
              " Device(name='QCS8550 (Proxy)', os='12', attributes=['os:android', 'framework:tflite', 'framework:onnx', 'abi:aarch64-android', 'vendor:qualcomm', 'format:iot', 'chipset:qualcomm-qcs8550-proxy', 'hexagon:v73', 'soc-model:43', 'htp-supports-fp16:true', 'framework:qnn']),\n",
              " Device(name='Samsung Galaxy S21 (Family)', os='12', attributes=['os:android', 'framework:tflite', 'framework:onnx', 'abi:aarch64-android', 'vendor:samsung', 'format:phone', 'chipset:qualcomm-snapdragon-888', 'chipset:sm8350', 'hexagon:v68', 'soc-model:30', 'framework:qnn']),\n",
              " Device(name='Samsung Galaxy S21', os='12', attributes=['os:android', 'framework:tflite', 'framework:onnx', 'abi:aarch64-android', 'vendor:samsung', 'format:phone', 'chipset:qualcomm-snapdragon-888', 'chipset:sm8350', 'hexagon:v68', 'soc-model:30', 'framework:qnn']),\n",
              " Device(name='Samsung Galaxy S21 Ultra', os='12', attributes=['os:android', 'framework:tflite', 'framework:onnx', 'abi:aarch64-android', 'vendor:samsung', 'format:phone', 'chipset:qualcomm-snapdragon-888', 'chipset:sm8350', 'hexagon:v68', 'soc-model:30', 'framework:qnn']),\n",
              " Device(name='Samsung Galaxy S22 (Family)', os='12', attributes=['os:android', 'framework:tflite', 'framework:onnx', 'abi:aarch64-android', 'vendor:samsung', 'format:phone', 'chipset:qualcomm-snapdragon-8gen1', 'chipset:sm8450', 'hexagon:v69', 'soc-model:36', 'htp-supports-fp16:true', 'framework:qnn']),\n",
              " Device(name='Samsung Galaxy S22 Ultra 5G', os='12', attributes=['os:android', 'framework:tflite', 'framework:onnx', 'abi:aarch64-android', 'vendor:samsung', 'format:phone', 'chipset:qualcomm-snapdragon-8gen1', 'chipset:sm8450', 'hexagon:v69', 'soc-model:36', 'htp-supports-fp16:true', 'framework:qnn']),\n",
              " Device(name='Samsung Galaxy S22 5G', os='12', attributes=['os:android', 'framework:tflite', 'framework:onnx', 'abi:aarch64-android', 'vendor:samsung', 'format:phone', 'chipset:qualcomm-snapdragon-8gen1', 'chipset:sm8450', 'hexagon:v69', 'soc-model:36', 'htp-supports-fp16:true', 'framework:qnn']),\n",
              " Device(name='Samsung Galaxy S22+ 5G', os='12', attributes=['os:android', 'framework:tflite', 'framework:onnx', 'abi:aarch64-android', 'vendor:samsung', 'format:phone', 'chipset:qualcomm-snapdragon-8gen1', 'chipset:sm8450', 'hexagon:v69', 'soc-model:36', 'htp-supports-fp16:true', 'framework:qnn']),\n",
              " Device(name='Samsung Galaxy Tab S8', os='12', attributes=['os:android', 'framework:tflite', 'framework:onnx', 'abi:aarch64-android', 'vendor:samsung', 'format:tablet', 'chipset:qualcomm-snapdragon-8gen1', 'chipset:sm8450', 'hexagon:v69', 'soc-model:36', 'htp-supports-fp16:true', 'framework:qnn']),\n",
              " Device(name='Xiaomi 12 (Family)', os='12', attributes=['os:android', 'framework:tflite', 'framework:onnx', 'abi:aarch64-android', 'vendor:xiaomi', 'format:phone', 'chipset:qualcomm-snapdragon-8gen1', 'chipset:sm8450', 'hexagon:v69', 'soc-model:36', 'htp-supports-fp16:true', 'framework:qnn']),\n",
              " Device(name='Xiaomi 12', os='12', attributes=['os:android', 'framework:tflite', 'framework:onnx', 'abi:aarch64-android', 'vendor:xiaomi', 'format:phone', 'chipset:qualcomm-snapdragon-8gen1', 'chipset:sm8450', 'hexagon:v69', 'soc-model:36', 'htp-supports-fp16:true', 'framework:qnn']),\n",
              " Device(name='Xiaomi 12 Pro', os='12', attributes=['os:android', 'framework:tflite', 'framework:onnx', 'abi:aarch64-android', 'vendor:xiaomi', 'format:phone', 'chipset:qualcomm-snapdragon-8gen1', 'chipset:sm8450', 'hexagon:v69', 'soc-model:36', 'htp-supports-fp16:true', 'framework:qnn']),\n",
              " Device(name='Google Pixel 6 (Family)', os='13', attributes=['os:android', 'framework:tflite', 'framework:onnx', 'abi:aarch64-android', 'vendor:google', 'format:phone', 'chipset:google-tensor']),\n",
              " Device(name='Google Pixel 6', os='13', attributes=['os:android', 'framework:tflite', 'framework:onnx', 'abi:aarch64-android', 'vendor:google', 'format:phone', 'chipset:google-tensor']),\n",
              " Device(name='Google Pixel 6a', os='13', attributes=['os:android', 'framework:tflite', 'framework:onnx', 'abi:aarch64-android', 'vendor:google', 'format:phone', 'chipset:google-tensor']),\n",
              " Device(name='Google Pixel 7 (Family)', os='13', attributes=['os:android', 'framework:tflite', 'framework:onnx', 'abi:aarch64-android', 'vendor:google', 'format:phone', 'chipset:google-tensor-g2']),\n",
              " Device(name='Google Pixel 7', os='13', attributes=['os:android', 'framework:tflite', 'framework:onnx', 'abi:aarch64-android', 'vendor:google', 'format:phone', 'chipset:google-tensor-g2']),\n",
              " Device(name='Google Pixel 7 Pro', os='13', attributes=['os:android', 'framework:tflite', 'framework:onnx', 'abi:aarch64-android', 'vendor:google', 'format:phone', 'chipset:google-tensor-g2']),\n",
              " Device(name='Samsung Galaxy A14 5G', os='13', attributes=['os:android', 'framework:tflite', 'framework:onnx', 'abi:aarch64-android', 'vendor:samsung', 'format:phone', 'chipset:samsung-exynos-1330']),\n",
              " Device(name='Samsung Galaxy S22 5G', os='13', attributes=['os:android', 'framework:tflite', 'framework:onnx', 'abi:aarch64-android', 'vendor:samsung', 'format:phone', 'chipset:qualcomm-snapdragon-8gen1', 'chipset:sm8450', 'hexagon:v69', 'soc-model:36', 'htp-supports-fp16:true', 'framework:qnn']),\n",
              " Device(name='QCS8450 (Proxy)', os='13', attributes=['os:android', 'framework:tflite', 'framework:onnx', 'abi:aarch64-android', 'vendor:qualcomm', 'format:xr', 'chipset:qualcomm-qcs8450-proxy', 'hexagon:v69', 'soc-model:36', 'htp-supports-fp16:true', 'framework:qnn']),\n",
              " Device(name='XR2 Gen 2 (Proxy)', os='13', attributes=['os:android', 'framework:tflite', 'framework:onnx', 'abi:aarch64-android', 'vendor:qualcomm', 'format:xr', 'chipset:qualcomm-qcs8450-proxy', 'hexagon:v69', 'soc-model:36', 'htp-supports-fp16:true', 'framework:qnn']),\n",
              " Device(name='Samsung Galaxy S23 (Family)', os='13', attributes=['os:android', 'framework:tflite', 'framework:onnx', 'abi:aarch64-android', 'vendor:samsung', 'format:phone', 'chipset:qualcomm-snapdragon-8gen2', 'chipset:sm8550', 'hexagon:v73', 'soc-model:43', 'htp-supports-fp16:true', 'framework:qnn']),\n",
              " Device(name='SA8650 (Proxy)', os='13', attributes=['os:android', 'framework:tflite', 'framework:onnx', 'abi:aarch64-android', 'format:auto', 'vendor:qualcomm', 'chipset:qualcomm-sa8650p-proxy', 'hexagon:v73', 'soc-model:43', 'htp-supports-fp16:true', 'framework:qnn']),\n",
              " Device(name='SA8775 (Proxy)', os='13', attributes=['os:android', 'framework:tflite', 'framework:onnx', 'abi:aarch64-android', 'format:auto', 'vendor:qualcomm', 'chipset:qualcomm-sa8775p-proxy', 'hexagon:v73', 'soc-model:43', 'htp-supports-fp16:true', 'framework:qnn']),\n",
              " Device(name='SA8255 (Proxy)', os='13', attributes=['os:android', 'framework:tflite', 'framework:onnx', 'abi:aarch64-android', 'format:auto', 'vendor:qualcomm', 'chipset:qualcomm-sa8255p-proxy', 'hexagon:v73', 'soc-model:43', 'htp-supports-fp16:true', 'framework:qnn']),\n",
              " Device(name='Samsung Galaxy S23', os='13', attributes=['os:android', 'framework:tflite', 'framework:onnx', 'abi:aarch64-android', 'vendor:samsung', 'format:phone', 'chipset:qualcomm-snapdragon-8gen2', 'chipset:sm8550', 'hexagon:v73', 'soc-model:43', 'htp-supports-fp16:true', 'framework:qnn']),\n",
              " Device(name='Samsung Galaxy S23+', os='13', attributes=['os:android', 'framework:tflite', 'framework:onnx', 'abi:aarch64-android', 'vendor:samsung', 'format:phone', 'chipset:qualcomm-snapdragon-8gen2', 'chipset:sm8550', 'hexagon:v73', 'soc-model:43', 'htp-supports-fp16:true', 'framework:qnn']),\n",
              " Device(name='Samsung Galaxy S23 Ultra', os='13', attributes=['os:android', 'framework:tflite', 'framework:onnx', 'abi:aarch64-android', 'vendor:samsung', 'format:phone', 'chipset:qualcomm-snapdragon-8gen2', 'chipset:sm8550', 'hexagon:v73', 'soc-model:43', 'htp-supports-fp16:true', 'framework:qnn']),\n",
              " Device(name='Google Pixel 7', os='14', attributes=['os:android', 'framework:tflite', 'framework:onnx', 'abi:aarch64-android', 'vendor:google', 'format:phone', 'chipset:google-tensor-g2']),\n",
              " Device(name='Google Pixel 8 (Family)', os='14', attributes=['os:android', 'framework:tflite', 'framework:onnx', 'abi:aarch64-android', 'vendor:google', 'format:phone', 'chipset:google-tensor-g3']),\n",
              " Device(name='Google Pixel 8', os='14', attributes=['os:android', 'framework:tflite', 'framework:onnx', 'abi:aarch64-android', 'vendor:google', 'format:phone', 'chipset:google-tensor-g3']),\n",
              " Device(name='Google Pixel 8 Pro', os='14', attributes=['os:android', 'framework:tflite', 'framework:onnx', 'abi:aarch64-android', 'vendor:google', 'format:phone', 'chipset:google-tensor-g3']),\n",
              " Device(name='Samsung Galaxy S24 (Family)', os='14', attributes=['os:android', 'framework:tflite', 'framework:onnx', 'abi:aarch64-android', 'vendor:samsung', 'format:phone', 'chipset:qualcomm-snapdragon-8gen3', 'chipset:sm8650', 'hexagon:v75', 'soc-model:57', 'htp-supports-fp16:true', 'framework:qnn']),\n",
              " Device(name='Samsung Galaxy S24', os='14', attributes=['os:android', 'framework:tflite', 'framework:onnx', 'abi:aarch64-android', 'vendor:samsung', 'format:phone', 'chipset:qualcomm-snapdragon-8gen3', 'chipset:sm8650', 'hexagon:v75', 'soc-model:57', 'htp-supports-fp16:true', 'framework:qnn']),\n",
              " Device(name='Samsung Galaxy S24 Ultra', os='14', attributes=['os:android', 'framework:tflite', 'framework:onnx', 'abi:aarch64-android', 'vendor:samsung', 'format:phone', 'chipset:qualcomm-snapdragon-8gen3', 'chipset:sm8650', 'hexagon:v75', 'soc-model:57', 'htp-supports-fp16:true', 'framework:qnn']),\n",
              " Device(name='Samsung Galaxy S24+', os='14', attributes=['os:android', 'framework:tflite', 'framework:onnx', 'abi:aarch64-android', 'vendor:samsung', 'format:phone', 'chipset:qualcomm-snapdragon-8gen3', 'chipset:sm8650', 'hexagon:v75', 'soc-model:57', 'htp-supports-fp16:true', 'framework:qnn']),\n",
              " Device(name='Google Pixel 9 (Family)', os='15', attributes=['os:android', 'framework:tflite', 'framework:onnx', 'abi:aarch64-android', 'vendor:google', 'format:phone', 'chipset:google-tensor-g4']),\n",
              " Device(name='Google Pixel 9', os='15', attributes=['os:android', 'framework:tflite', 'framework:onnx', 'abi:aarch64-android', 'vendor:google', 'format:phone', 'chipset:google-tensor-g4']),\n",
              " Device(name='Google Pixel 9 Pro', os='15', attributes=['os:android', 'framework:tflite', 'framework:onnx', 'abi:aarch64-android', 'vendor:google', 'format:phone', 'chipset:google-tensor-g4']),\n",
              " Device(name='Google Pixel 9 Pro XL', os='15', attributes=['os:android', 'framework:tflite', 'framework:onnx', 'abi:aarch64-android', 'vendor:google', 'format:phone', 'chipset:google-tensor-g4']),\n",
              " Device(name='Snapdragon 8cx Gen 3 CRD', os='11', attributes=['os:windows', 'format:compute', 'framework:onnx', 'vendor:qualcomm', 'abi:aarch64-windows', 'chipset:qualcomm-snapdragon-8cxgen3', 'chipset:sc8280x', 'hexagon:v68', 'soc-model:37', 'framework:qnn']),\n",
              " Device(name='Snapdragon X Elite CRD', os='11', attributes=['os:windows', 'format:compute', 'framework:onnx', 'vendor:qualcomm', 'abi:aarch64-windows', 'chipset:qualcomm-snapdragon-x-elite', 'chipset:sc8380xp', 'hexagon:v73', 'soc-model:60', 'htp-supports-fp16:true', 'framework:qnn']),\n",
              " Device(name='Snapdragon X Plus 8-Core CRD', os='11', attributes=['os:windows', 'format:compute', 'framework:onnx', 'vendor:qualcomm', 'abi:aarch64-windows', 'chipset:qualcomm-snapdragon-x-plus-8-core', 'chipset:sc8340xp', 'hexagon:v73', 'soc-model:60', 'htp-supports-fp16:true', 'framework:qnn']),\n",
              " Device(name='Snapdragon 8 Elite QRD', os='15', attributes=['os:android', 'framework:tflite', 'framework:onnx', 'vendor:qualcomm', 'abi:aarch64-android', 'format:phone', 'chipset:qualcomm-snapdragon-8-elite', 'chipset:sm8750', 'hexagon:v79', 'soc-model:69', 'htp-supports-fp16:true', 'framework:qnn']),\n",
              " Device(name='SA8295P ADP', os='14', attributes=['os:android', 'framework:tflite', 'framework:onnx', 'vendor:qualcomm', 'abi:aarch64-android', 'format:auto', 'chipset:qualcomm-sa8295p', 'hexagon:v68', 'soc-model:39', 'htp-supports-fp16:true', 'framework:qnn']),\n",
              " Device(name='SA8775P ADP', os='14', attributes=['os:android', 'framework:tflite', 'framework:onnx', 'vendor:qualcomm', 'abi:aarch64-android', 'format:auto', 'chipset:qualcomm-sa8775p', 'hexagon:v73', 'soc-model:52', 'htp-supports-fp16:true', 'framework:qnn']),\n",
              " Device(name='SA7255P ADP', os='14', attributes=['os:android', 'framework:tflite', 'framework:onnx', 'vendor:qualcomm', 'abi:aarch64-android', 'format:auto', 'chipset:qualcomm-sa7255p', 'hexagon:v75', 'soc-model:67', 'htp-supports-fp16:true', 'framework:qnn']),\n",
              " Device(name='QCS9075 (Proxy)', os='14', attributes=['os:android', 'framework:tflite', 'framework:onnx', 'vendor:qualcomm', 'abi:aarch64-android', 'format:iot', 'chipset:qualcomm-qcs9075-proxy', 'hexagon:v73', 'soc-model:52', 'htp-supports-fp16:true', 'framework:qnn']),\n",
              " Device(name='QCS8275 (Proxy)', os='14', attributes=['os:android', 'framework:tflite', 'framework:onnx', 'vendor:qualcomm', 'abi:aarch64-android', 'format:iot', 'chipset:qualcomm-qcs8275-proxy', 'hexagon:v75', 'soc-model:67', 'htp-supports-fp16:true', 'framework:qnn'])]"
            ]
          },
          "metadata": {},
          "execution_count": 3
        }
      ]
    },
    {
      "cell_type": "code",
      "source": [
        "!pip3 install \"qai-hub[torch]\""
      ],
      "metadata": {
        "colab": {
          "base_uri": "https://localhost:8080/"
        },
        "id": "yjMQSas7c35w",
        "outputId": "91bb0d4c-c854-4652-a751-c935cfbb7f21"
      },
      "execution_count": 4,
      "outputs": [
        {
          "output_type": "stream",
          "name": "stdout",
          "text": [
            "Requirement already satisfied: qai-hub[torch] in /usr/local/lib/python3.11/dist-packages (0.25.0)\n",
            "Requirement already satisfied: backoff>=2.2 in /usr/local/lib/python3.11/dist-packages (from qai-hub[torch]) (2.2.1)\n",
            "Requirement already satisfied: deprecation in /usr/local/lib/python3.11/dist-packages (from qai-hub[torch]) (2.1.0)\n",
            "Requirement already satisfied: h5py<4,>=2.10.0 in /usr/local/lib/python3.11/dist-packages (from qai-hub[torch]) (3.12.1)\n",
            "Requirement already satisfied: numpy<2,>=1.22.0 in /usr/local/lib/python3.11/dist-packages (from qai-hub[torch]) (1.26.4)\n",
            "Requirement already satisfied: packaging>=20.0 in /usr/local/lib/python3.11/dist-packages (from qai-hub[torch]) (24.2)\n",
            "Requirement already satisfied: prettytable>=3.9.0 in /usr/local/lib/python3.11/dist-packages (from qai-hub[torch]) (3.15.1)\n",
            "Requirement already satisfied: protobuf<4,>=3.20 in /usr/local/lib/python3.11/dist-packages (from qai-hub[torch]) (3.20.3)\n",
            "Requirement already satisfied: requests in /usr/local/lib/python3.11/dist-packages (from qai-hub[torch]) (2.32.3)\n",
            "Requirement already satisfied: requests-toolbelt in /usr/local/lib/python3.11/dist-packages (from qai-hub[torch]) (1.0.0)\n",
            "Requirement already satisfied: s3transfer<0.11,>=0.10.3 in /usr/local/lib/python3.11/dist-packages (from qai-hub[torch]) (0.10.4)\n",
            "Requirement already satisfied: semver>=3.0 in /usr/local/lib/python3.11/dist-packages (from qai-hub[torch]) (3.0.4)\n",
            "Requirement already satisfied: tqdm in /usr/local/lib/python3.11/dist-packages (from qai-hub[torch]) (4.67.1)\n",
            "Requirement already satisfied: typing-extensions>=4.12.2 in /usr/local/lib/python3.11/dist-packages (from qai-hub[torch]) (4.12.2)\n",
            "Requirement already satisfied: torch>=1.13 in /usr/local/lib/python3.11/dist-packages (from qai-hub[torch]) (2.5.1+cu124)\n",
            "Requirement already satisfied: torchvision>=0.14 in /usr/local/lib/python3.11/dist-packages (from qai-hub[torch]) (0.20.1+cu124)\n",
            "Requirement already satisfied: wcwidth in /usr/local/lib/python3.11/dist-packages (from prettytable>=3.9.0->qai-hub[torch]) (0.2.13)\n",
            "Requirement already satisfied: botocore<2.0a.0,>=1.33.2 in /usr/local/lib/python3.11/dist-packages (from s3transfer<0.11,>=0.10.3->qai-hub[torch]) (1.37.11)\n",
            "Requirement already satisfied: filelock in /usr/local/lib/python3.11/dist-packages (from torch>=1.13->qai-hub[torch]) (3.17.0)\n",
            "Requirement already satisfied: networkx in /usr/local/lib/python3.11/dist-packages (from torch>=1.13->qai-hub[torch]) (3.4.2)\n",
            "Requirement already satisfied: jinja2 in /usr/local/lib/python3.11/dist-packages (from torch>=1.13->qai-hub[torch]) (3.1.6)\n",
            "Requirement already satisfied: fsspec in /usr/local/lib/python3.11/dist-packages (from torch>=1.13->qai-hub[torch]) (2024.10.0)\n",
            "Collecting nvidia-cuda-nvrtc-cu12==12.4.127 (from torch>=1.13->qai-hub[torch])\n",
            "  Using cached nvidia_cuda_nvrtc_cu12-12.4.127-py3-none-manylinux2014_x86_64.whl.metadata (1.5 kB)\n",
            "Collecting nvidia-cuda-runtime-cu12==12.4.127 (from torch>=1.13->qai-hub[torch])\n",
            "  Using cached nvidia_cuda_runtime_cu12-12.4.127-py3-none-manylinux2014_x86_64.whl.metadata (1.5 kB)\n",
            "Collecting nvidia-cuda-cupti-cu12==12.4.127 (from torch>=1.13->qai-hub[torch])\n",
            "  Using cached nvidia_cuda_cupti_cu12-12.4.127-py3-none-manylinux2014_x86_64.whl.metadata (1.6 kB)\n",
            "Collecting nvidia-cudnn-cu12==9.1.0.70 (from torch>=1.13->qai-hub[torch])\n",
            "  Using cached nvidia_cudnn_cu12-9.1.0.70-py3-none-manylinux2014_x86_64.whl.metadata (1.6 kB)\n",
            "Collecting nvidia-cublas-cu12==12.4.5.8 (from torch>=1.13->qai-hub[torch])\n",
            "  Using cached nvidia_cublas_cu12-12.4.5.8-py3-none-manylinux2014_x86_64.whl.metadata (1.5 kB)\n",
            "Collecting nvidia-cufft-cu12==11.2.1.3 (from torch>=1.13->qai-hub[torch])\n",
            "  Using cached nvidia_cufft_cu12-11.2.1.3-py3-none-manylinux2014_x86_64.whl.metadata (1.5 kB)\n",
            "Collecting nvidia-curand-cu12==10.3.5.147 (from torch>=1.13->qai-hub[torch])\n",
            "  Using cached nvidia_curand_cu12-10.3.5.147-py3-none-manylinux2014_x86_64.whl.metadata (1.5 kB)\n",
            "Collecting nvidia-cusolver-cu12==11.6.1.9 (from torch>=1.13->qai-hub[torch])\n",
            "  Using cached nvidia_cusolver_cu12-11.6.1.9-py3-none-manylinux2014_x86_64.whl.metadata (1.6 kB)\n",
            "Collecting nvidia-cusparse-cu12==12.3.1.170 (from torch>=1.13->qai-hub[torch])\n",
            "  Using cached nvidia_cusparse_cu12-12.3.1.170-py3-none-manylinux2014_x86_64.whl.metadata (1.6 kB)\n",
            "Requirement already satisfied: nvidia-nccl-cu12==2.21.5 in /usr/local/lib/python3.11/dist-packages (from torch>=1.13->qai-hub[torch]) (2.21.5)\n",
            "Requirement already satisfied: nvidia-nvtx-cu12==12.4.127 in /usr/local/lib/python3.11/dist-packages (from torch>=1.13->qai-hub[torch]) (12.4.127)\n",
            "Collecting nvidia-nvjitlink-cu12==12.4.127 (from torch>=1.13->qai-hub[torch])\n",
            "  Using cached nvidia_nvjitlink_cu12-12.4.127-py3-none-manylinux2014_x86_64.whl.metadata (1.5 kB)\n",
            "Requirement already satisfied: triton==3.1.0 in /usr/local/lib/python3.11/dist-packages (from torch>=1.13->qai-hub[torch]) (3.1.0)\n",
            "Requirement already satisfied: sympy==1.13.1 in /usr/local/lib/python3.11/dist-packages (from torch>=1.13->qai-hub[torch]) (1.13.1)\n",
            "Requirement already satisfied: mpmath<1.4,>=1.1.0 in /usr/local/lib/python3.11/dist-packages (from sympy==1.13.1->torch>=1.13->qai-hub[torch]) (1.3.0)\n",
            "Requirement already satisfied: pillow!=8.3.*,>=5.3.0 in /usr/local/lib/python3.11/dist-packages (from torchvision>=0.14->qai-hub[torch]) (11.1.0)\n",
            "Requirement already satisfied: charset-normalizer<4,>=2 in /usr/local/lib/python3.11/dist-packages (from requests->qai-hub[torch]) (3.4.1)\n",
            "Requirement already satisfied: idna<4,>=2.5 in /usr/local/lib/python3.11/dist-packages (from requests->qai-hub[torch]) (3.10)\n",
            "Requirement already satisfied: urllib3<3,>=1.21.1 in /usr/local/lib/python3.11/dist-packages (from requests->qai-hub[torch]) (2.3.0)\n",
            "Requirement already satisfied: certifi>=2017.4.17 in /usr/local/lib/python3.11/dist-packages (from requests->qai-hub[torch]) (2025.1.31)\n",
            "Requirement already satisfied: jmespath<2.0.0,>=0.7.1 in /usr/local/lib/python3.11/dist-packages (from botocore<2.0a.0,>=1.33.2->s3transfer<0.11,>=0.10.3->qai-hub[torch]) (1.0.1)\n",
            "Requirement already satisfied: python-dateutil<3.0.0,>=2.1 in /usr/local/lib/python3.11/dist-packages (from botocore<2.0a.0,>=1.33.2->s3transfer<0.11,>=0.10.3->qai-hub[torch]) (2.8.2)\n",
            "Requirement already satisfied: MarkupSafe>=2.0 in /usr/local/lib/python3.11/dist-packages (from jinja2->torch>=1.13->qai-hub[torch]) (3.0.2)\n",
            "Requirement already satisfied: six>=1.5 in /usr/local/lib/python3.11/dist-packages (from python-dateutil<3.0.0,>=2.1->botocore<2.0a.0,>=1.33.2->s3transfer<0.11,>=0.10.3->qai-hub[torch]) (1.17.0)\n",
            "Downloading nvidia_cublas_cu12-12.4.5.8-py3-none-manylinux2014_x86_64.whl (363.4 MB)\n",
            "\u001b[2K   \u001b[90m━━━━━━━━━━━━━━━━━━━━━━━━━━━━━━━━━━━━━━━━\u001b[0m \u001b[32m363.4/363.4 MB\u001b[0m \u001b[31m4.2 MB/s\u001b[0m eta \u001b[36m0:00:00\u001b[0m\n",
            "\u001b[?25hDownloading nvidia_cuda_cupti_cu12-12.4.127-py3-none-manylinux2014_x86_64.whl (13.8 MB)\n",
            "\u001b[2K   \u001b[90m━━━━━━━━━━━━━━━━━━━━━━━━━━━━━━━━━━━━━━━━\u001b[0m \u001b[32m13.8/13.8 MB\u001b[0m \u001b[31m74.8 MB/s\u001b[0m eta \u001b[36m0:00:00\u001b[0m\n",
            "\u001b[?25hDownloading nvidia_cuda_nvrtc_cu12-12.4.127-py3-none-manylinux2014_x86_64.whl (24.6 MB)\n",
            "\u001b[2K   \u001b[90m━━━━━━━━━━━━━━━━━━━━━━━━━━━━━━━━━━━━━━━━\u001b[0m \u001b[32m24.6/24.6 MB\u001b[0m \u001b[31m64.6 MB/s\u001b[0m eta \u001b[36m0:00:00\u001b[0m\n",
            "\u001b[?25hDownloading nvidia_cuda_runtime_cu12-12.4.127-py3-none-manylinux2014_x86_64.whl (883 kB)\n",
            "\u001b[2K   \u001b[90m━━━━━━━━━━━━━━━━━━━━━━━━━━━━━━━━━━━━━━━━\u001b[0m \u001b[32m883.7/883.7 kB\u001b[0m \u001b[31m42.6 MB/s\u001b[0m eta \u001b[36m0:00:00\u001b[0m\n",
            "\u001b[?25hDownloading nvidia_cudnn_cu12-9.1.0.70-py3-none-manylinux2014_x86_64.whl (664.8 MB)\n",
            "\u001b[2K   \u001b[90m━━━━━━━━━━━━━━━━━━━━━━━━━━━━━━━━━━━━━━━━\u001b[0m \u001b[32m664.8/664.8 MB\u001b[0m \u001b[31m2.5 MB/s\u001b[0m eta \u001b[36m0:00:00\u001b[0m\n",
            "\u001b[?25hDownloading nvidia_cufft_cu12-11.2.1.3-py3-none-manylinux2014_x86_64.whl (211.5 MB)\n",
            "\u001b[2K   \u001b[90m━━━━━━━━━━━━━━━━━━━━━━━━━━━━━━━━━━━━━━━━\u001b[0m \u001b[32m211.5/211.5 MB\u001b[0m \u001b[31m6.2 MB/s\u001b[0m eta \u001b[36m0:00:00\u001b[0m\n",
            "\u001b[?25hDownloading nvidia_curand_cu12-10.3.5.147-py3-none-manylinux2014_x86_64.whl (56.3 MB)\n",
            "\u001b[2K   \u001b[90m━━━━━━━━━━━━━━━━━━━━━━━━━━━━━━━━━━━━━━━━\u001b[0m \u001b[32m56.3/56.3 MB\u001b[0m \u001b[31m12.0 MB/s\u001b[0m eta \u001b[36m0:00:00\u001b[0m\n",
            "\u001b[?25hDownloading nvidia_cusolver_cu12-11.6.1.9-py3-none-manylinux2014_x86_64.whl (127.9 MB)\n",
            "\u001b[2K   \u001b[90m━━━━━━━━━━━━━━━━━━━━━━━━━━━━━━━━━━━━━━━━\u001b[0m \u001b[32m127.9/127.9 MB\u001b[0m \u001b[31m7.9 MB/s\u001b[0m eta \u001b[36m0:00:00\u001b[0m\n",
            "\u001b[?25hDownloading nvidia_cusparse_cu12-12.3.1.170-py3-none-manylinux2014_x86_64.whl (207.5 MB)\n",
            "\u001b[2K   \u001b[90m━━━━━━━━━━━━━━━━━━━━━━━━━━━━━━━━━━━━━━━━\u001b[0m \u001b[32m207.5/207.5 MB\u001b[0m \u001b[31m5.9 MB/s\u001b[0m eta \u001b[36m0:00:00\u001b[0m\n",
            "\u001b[?25hDownloading nvidia_nvjitlink_cu12-12.4.127-py3-none-manylinux2014_x86_64.whl (21.1 MB)\n",
            "\u001b[2K   \u001b[90m━━━━━━━━━━━━━━━━━━━━━━━━━━━━━━━━━━━━━━━━\u001b[0m \u001b[32m21.1/21.1 MB\u001b[0m \u001b[31m79.7 MB/s\u001b[0m eta \u001b[36m0:00:00\u001b[0m\n",
            "\u001b[?25hInstalling collected packages: nvidia-nvjitlink-cu12, nvidia-curand-cu12, nvidia-cufft-cu12, nvidia-cuda-runtime-cu12, nvidia-cuda-nvrtc-cu12, nvidia-cuda-cupti-cu12, nvidia-cublas-cu12, nvidia-cusparse-cu12, nvidia-cudnn-cu12, nvidia-cusolver-cu12\n",
            "  Attempting uninstall: nvidia-nvjitlink-cu12\n",
            "    Found existing installation: nvidia-nvjitlink-cu12 12.5.82\n",
            "    Uninstalling nvidia-nvjitlink-cu12-12.5.82:\n",
            "      Successfully uninstalled nvidia-nvjitlink-cu12-12.5.82\n",
            "  Attempting uninstall: nvidia-curand-cu12\n",
            "    Found existing installation: nvidia-curand-cu12 10.3.6.82\n",
            "    Uninstalling nvidia-curand-cu12-10.3.6.82:\n",
            "      Successfully uninstalled nvidia-curand-cu12-10.3.6.82\n",
            "  Attempting uninstall: nvidia-cufft-cu12\n",
            "    Found existing installation: nvidia-cufft-cu12 11.2.3.61\n",
            "    Uninstalling nvidia-cufft-cu12-11.2.3.61:\n",
            "      Successfully uninstalled nvidia-cufft-cu12-11.2.3.61\n",
            "  Attempting uninstall: nvidia-cuda-runtime-cu12\n",
            "    Found existing installation: nvidia-cuda-runtime-cu12 12.5.82\n",
            "    Uninstalling nvidia-cuda-runtime-cu12-12.5.82:\n",
            "      Successfully uninstalled nvidia-cuda-runtime-cu12-12.5.82\n",
            "  Attempting uninstall: nvidia-cuda-nvrtc-cu12\n",
            "    Found existing installation: nvidia-cuda-nvrtc-cu12 12.5.82\n",
            "    Uninstalling nvidia-cuda-nvrtc-cu12-12.5.82:\n",
            "      Successfully uninstalled nvidia-cuda-nvrtc-cu12-12.5.82\n",
            "  Attempting uninstall: nvidia-cuda-cupti-cu12\n",
            "    Found existing installation: nvidia-cuda-cupti-cu12 12.5.82\n",
            "    Uninstalling nvidia-cuda-cupti-cu12-12.5.82:\n",
            "      Successfully uninstalled nvidia-cuda-cupti-cu12-12.5.82\n",
            "  Attempting uninstall: nvidia-cublas-cu12\n",
            "    Found existing installation: nvidia-cublas-cu12 12.5.3.2\n",
            "    Uninstalling nvidia-cublas-cu12-12.5.3.2:\n",
            "      Successfully uninstalled nvidia-cublas-cu12-12.5.3.2\n",
            "  Attempting uninstall: nvidia-cusparse-cu12\n",
            "    Found existing installation: nvidia-cusparse-cu12 12.5.1.3\n",
            "    Uninstalling nvidia-cusparse-cu12-12.5.1.3:\n",
            "      Successfully uninstalled nvidia-cusparse-cu12-12.5.1.3\n",
            "  Attempting uninstall: nvidia-cudnn-cu12\n",
            "    Found existing installation: nvidia-cudnn-cu12 9.3.0.75\n",
            "    Uninstalling nvidia-cudnn-cu12-9.3.0.75:\n",
            "      Successfully uninstalled nvidia-cudnn-cu12-9.3.0.75\n",
            "  Attempting uninstall: nvidia-cusolver-cu12\n",
            "    Found existing installation: nvidia-cusolver-cu12 11.6.3.83\n",
            "    Uninstalling nvidia-cusolver-cu12-11.6.3.83:\n",
            "      Successfully uninstalled nvidia-cusolver-cu12-11.6.3.83\n",
            "Successfully installed nvidia-cublas-cu12-12.4.5.8 nvidia-cuda-cupti-cu12-12.4.127 nvidia-cuda-nvrtc-cu12-12.4.127 nvidia-cuda-runtime-cu12-12.4.127 nvidia-cudnn-cu12-9.1.0.70 nvidia-cufft-cu12-11.2.1.3 nvidia-curand-cu12-10.3.5.147 nvidia-cusolver-cu12-11.6.1.9 nvidia-cusparse-cu12-12.3.1.170 nvidia-nvjitlink-cu12-12.4.127\n"
          ]
        }
      ]
    },
    {
      "cell_type": "code",
      "source": [
        "import numpy as np\n",
        "import requests\n",
        "import torch\n",
        "from PIL import Image\n",
        "from torchvision.models import mobilenet_v3_small"
      ],
      "metadata": {
        "id": "ixuGsVWZc4ze"
      },
      "execution_count": 5,
      "outputs": []
    },
    {
      "cell_type": "code",
      "source": [
        "# Using pre-trained MobileNet\n",
        "torch_model = mobilenet_v3_small(pretrained=True)\n",
        "torch_model.eval()\n",
        "\n",
        "# Trace model\n",
        "input_shape = (1, 3, 224, 224)\n",
        "example_input = torch.rand(input_shape)\n",
        "traced_torch_model = torch.jit.trace(torch_model, example_input)\n",
        "\n",
        "# Compile model\n",
        "compile_job = hub.submit_compile_job(\n",
        "    model=traced_torch_model,\n",
        "    device=hub.Device(\"Samsung Galaxy S24 (Family)\"),\n",
        "    input_specs=dict(image=input_shape),\n",
        "    options=\"--target_runtime tflite\",\n",
        ")\n",
        "assert isinstance(compile_job, hub.CompileJob)\n",
        "\n",
        "# Profile on cloud-hosted device\n",
        "target_model = compile_job.get_target_model()\n",
        "assert isinstance(target_model, hub.Model)\n",
        "profile_job = hub.submit_profile_job(\n",
        "    model=target_model,\n",
        "    device=hub.Device(\"Samsung Galaxy S24 (Family)\"),\n",
        ")\n",
        "assert isinstance(profile_job, hub.ProfileJob)"
      ],
      "metadata": {
        "colab": {
          "base_uri": "https://localhost:8080/"
        },
        "id": "6tonaKP2dxDS",
        "outputId": "6310475e-8a11-418d-e9f6-ba1e302735d8"
      },
      "execution_count": 6,
      "outputs": [
        {
          "output_type": "stream",
          "name": "stderr",
          "text": [
            "/usr/local/lib/python3.11/dist-packages/torchvision/models/_utils.py:208: UserWarning: The parameter 'pretrained' is deprecated since 0.13 and may be removed in the future, please use 'weights' instead.\n",
            "  warnings.warn(\n",
            "/usr/local/lib/python3.11/dist-packages/torchvision/models/_utils.py:223: UserWarning: Arguments other than a weight enum or `None` for 'weights' are deprecated since 0.13 and may be removed in the future. The current behavior is equivalent to passing `weights=MobileNet_V3_Small_Weights.IMAGENET1K_V1`. You can also use `weights=MobileNet_V3_Small_Weights.DEFAULT` to get the most up-to-date weights.\n",
            "  warnings.warn(msg)\n",
            "Downloading: \"https://download.pytorch.org/models/mobilenet_v3_small-047dcff4.pth\" to /root/.cache/torch/hub/checkpoints/mobilenet_v3_small-047dcff4.pth\n",
            "100%|██████████| 9.83M/9.83M [00:00<00:00, 134MB/s]\n"
          ]
        },
        {
          "output_type": "stream",
          "name": "stdout",
          "text": [
            "Uploading tmp51kcbivs.pt\n"
          ]
        },
        {
          "output_type": "stream",
          "name": "stderr",
          "text": [
            "100%|\u001b[34m██████████\u001b[0m| 10.2M/10.2M [00:01<00:00, 5.36MB/s]\n"
          ]
        },
        {
          "output_type": "stream",
          "name": "stdout",
          "text": [
            "Scheduled compile job (jpvqd7mzg) successfully. To see the status and results:\n",
            "    https://app.aihub.qualcomm.com/jobs/jpvqd7mzg/\n",
            "\n",
            "Waiting for compile job (jpvqd7mzg) completion. Type Ctrl+C to stop waiting at any time.\n",
            "    ✅ SUCCESS                          \u0007\n",
            "Scheduled profile job (jgjd7qy1g) successfully. To see the status and results:\n",
            "    https://app.aihub.qualcomm.com/jobs/jgjd7qy1g/\n",
            "\n"
          ]
        }
      ]
    },
    {
      "cell_type": "code",
      "source": [
        "# Run inference on cloud-hosted device\n",
        "sample_image_url = (\n",
        "    \"https://qaihub-public-assets.s3.us-west-2.amazonaws.com/apidoc/input_image1.jpg\"\n",
        ")\n",
        "response = requests.get(sample_image_url, stream=True)\n",
        "response.raw.decode_content = True\n",
        "image = Image.open(response.raw).resize((224, 224))\n",
        "input_array = np.expand_dims(\n",
        "    np.transpose(np.array(image, dtype=np.float32) / 255.0, (2, 0, 1)), axis=0\n",
        ")\n",
        "\n",
        "# Run inference using the on-device model on the input image\n",
        "inference_job = hub.submit_inference_job(\n",
        "    model=target_model,\n",
        "    device=hub.Device(\"Samsung Galaxy S24 (Family)\"),\n",
        "    inputs=dict(image=[input_array]),\n",
        ")\n",
        "on_device_output = inference_job.download_output_data()\n",
        "\n",
        "# Post-processing the on-device output\n",
        "output_name = list(on_device_output.keys())[0]\n",
        "out = on_device_output[output_name][0]\n",
        "on_device_probabilities = np.exp(out) / np.sum(np.exp(out), axis=1)\n",
        "\n",
        "# Read the class labels for imagenet\n",
        "sample_classes = \"https://qaihub-public-assets.s3.us-west-2.amazonaws.com/apidoc/imagenet_classes.txt\"\n",
        "response = requests.get(sample_classes, stream=True)\n",
        "response.raw.decode_content = True\n",
        "categories = [str(s.strip()) for s in response.raw]\n",
        "\n",
        "# Print top five predictions for the on-device model\n",
        "print(\"Top-5 On-Device predictions:\")\n",
        "top5_classes = np.argsort(on_device_probabilities[0], axis=0)[-5:]\n",
        "for c in reversed(top5_classes):\n",
        "    print(f\"{c} {categories[c]:20s} {on_device_probabilities[0][c]:>6.1%}\")\n",
        "\n",
        "# Download model\n",
        "target_model = compile_job.get_target_model()\n",
        "target_model.download(\"mobilenet_v3.tflite\")"
      ],
      "metadata": {
        "colab": {
          "base_uri": "https://localhost:8080/",
          "height": 296
        },
        "id": "Jhs2x1w4eFO7",
        "outputId": "6fd7863d-bdc2-4c47-a11f-1b227113a265"
      },
      "execution_count": 7,
      "outputs": [
        {
          "output_type": "stream",
          "name": "stderr",
          "text": [
            "Uploading dataset: 154kB [00:01, 136kB/s]                    \n"
          ]
        },
        {
          "output_type": "stream",
          "name": "stdout",
          "text": [
            "Scheduled inference job (jpeozyx8g) successfully. To see the status and results:\n",
            "    https://app.aihub.qualcomm.com/jobs/jpeozyx8g/\n",
            "\n",
            "Waiting for inference job (jpeozyx8g) completion. Type Ctrl+C to stop waiting at any time.\n",
            "    ✅ SUCCESS                          \u0007\n"
          ]
        },
        {
          "output_type": "stream",
          "name": "stderr",
          "text": [
            "tmpdeymqrd0.h5: 100%|\u001b[34m██████████\u001b[0m| 14.4k/14.4k [00:00<00:00, 12.6MB/s]\n"
          ]
        },
        {
          "output_type": "stream",
          "name": "stdout",
          "text": [
            "Top-5 On-Device predictions:\n",
            "967 b'espresso'           87.6%\n",
            "968 b'cup'                 7.9%\n",
            "504 b'coffee mug'          3.5%\n",
            "969 b'eggnog'              0.3%\n",
            "849 b'teapot'              0.2%\n"
          ]
        },
        {
          "output_type": "stream",
          "name": "stderr",
          "text": [
            "mobilenet_v3.tflite: 100%|\u001b[34m██████████\u001b[0m| 9.71M/9.71M [00:01<00:00, 9.10MB/s]"
          ]
        },
        {
          "output_type": "stream",
          "name": "stdout",
          "text": [
            "Downloaded model to mobilenet_v3.tflite\n"
          ]
        },
        {
          "output_type": "stream",
          "name": "stderr",
          "text": [
            "\n"
          ]
        },
        {
          "output_type": "execute_result",
          "data": {
            "text/plain": [
              "'mobilenet_v3.tflite'"
            ],
            "application/vnd.google.colaboratory.intrinsic+json": {
              "type": "string"
            }
          },
          "metadata": {},
          "execution_count": 7
        }
      ]
    }
  ]
}